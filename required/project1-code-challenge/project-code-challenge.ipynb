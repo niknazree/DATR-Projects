{
 "cells": [
  {
   "cell_type": "markdown",
   "metadata": {},
   "source": [
    "<img src=\"http://imgur.com/1ZcRyrc.png\" style=\"float: left; margin: 20px; height: 55px\">\n",
    "\n",
    "# Project 1: Python Coding Exercises\n",
    "\n",
    "_Authors: Joseph Nelson (DC) _\n",
    "\n",
    "---"
   ]
  },
  {
   "cell_type": "markdown",
   "metadata": {},
   "source": [
    "The following code challenges are drawn from common exercises used in technical interviews.\n",
    "\n",
    "Please note that there may be several ways to approach each challenge. If you get stuck, try mapping out your approach in pseudocode first. Finally, while solutions to problems like these may be found online, remember that if you copy/paste code that you can't explain, you'll be missing out on the point of the project. The only way to truly learn a new skill is through practice, trial, and error - we can only help you improve by understanding where you are having trouble."
   ]
  },
  {
   "cell_type": "markdown",
   "metadata": {},
   "source": [
    "### Challenge 1: Largest Palindrome\n",
    "A palindromic number reads the same both ways. For example, 1234321 is a palindrome. The largest palindrome made from the product of two two-digit numbers is 9009 = 91 × 99. Find the largest palindrome made from the product of two three-digit numbers. Afterward, write a brief explanation walking through your code's logic in markdown."
   ]
  },
  {
   "cell_type": "code",
   "execution_count": 2,
   "metadata": {},
   "outputs": [
    {
     "name": "stdout",
     "output_type": "stream",
     "text": [
      "906609\n"
     ]
    }
   ],
   "source": [
    "m = 0\n",
    "smallest = 100\n",
    "largest = 999\n",
    "\n",
    "for smallest in range (100, 999, 1):\n",
    "    for largest in range (999, 100,-1):\n",
    "        x = smallest * largest\n",
    "        if x > m:\n",
    "            s = str(smallest*largest)\n",
    "            if s == s[::-1]:\n",
    "                m = smallest*largest\n",
    "print(m)     \n",
    "\n",
    "#My thought process:\n",
    "# 1. Need to identify the smallest and the largest 3-digit number to set the range\n",
    "# 2. As we need the largest palindrome number, we need to look at the 3-digit numbers with the range from 100 to 999 for smallest with the step of 1, and for the largest with the range from 999 to 100 with the step of -1.\n",
    "# 3. Then we need to multiply the int of smallest and largest to set it in\n",
    "# 4. But changing it to string honestly i am not so sure, had to look at samples on the internet :("
   ]
  },
  {
   "cell_type": "markdown",
   "metadata": {},
   "source": [
    "\n",
    "### Challenge 2: Summation of Primes\n",
    "The sum of the primes below 10 is 2 + 3 + 5 + 7 = 17. Find the sum of all the primes below 2,000. Afterward, write a brief explanation walking through your code's logic in markdown."
   ]
  },
  {
   "cell_type": "code",
   "execution_count": 6,
   "metadata": {},
   "outputs": [
    {
     "name": "stdout",
     "output_type": "stream",
     "text": [
      "277048\n"
     ]
    }
   ],
   "source": [
    "sum = 0\n",
    "for number in range(2, 2000):\n",
    "    i = 2\n",
    "    for i in range(2, number):\n",
    "        if (int(number % i) == 0):\n",
    "            i = number\n",
    "            break;\n",
    "    if i is not number:\n",
    "        sum = sum + number\n",
    "print(sum)\n",
    "\n",
    "#My thought process:\n",
    "# 1. Prime number is a number that is only divisible by 1 and the number itself.\n",
    "# 2. As the prime number starts with 2, the range should start with 2 until 2000 (as it is below 2000). Even the loop should start with 2.\n",
    "# 3. Then continue to add only the number which is a prime number."
   ]
  },
  {
   "cell_type": "markdown",
   "metadata": {},
   "source": [
    "### Challenge 3: Multiples of 3 and 5\n",
    "If we list all of the natural numbers below 10 that are multiples of 3 or 5, we get 3, 5, 6, and 9. The sum of these multiples is 23. Find the sum of all the multiples of 3 and 5 below 1,000. Afterward, write a brief explanation walking through your code's logic in markdown."
   ]
  },
  {
   "cell_type": "code",
   "execution_count": 13,
   "metadata": {},
   "outputs": [
    {
     "name": "stdout",
     "output_type": "stream",
     "text": [
      "232169\n"
     ]
    }
   ],
   "source": [
    "max = 999\n",
    "sum = 0\n",
    "for x in range(0, max):\n",
    "    if x%3 == 0 or x%5 == 0:\n",
    "        sum = sum + x\n",
    "print(sum)\n",
    "\n",
    "#My thought process:\n",
    "# 1. As sum is below 1000, so max is set at 999.\n",
    "# 2. In the loop, for the numbers that are divisible by 3 and 5, it is to be added together."
   ]
  },
  {
   "cell_type": "markdown",
   "metadata": {},
   "source": [
    "### Challenge 4: String Compressor\n",
    "Implement a method to perform basic string compression using the counts of repeated characters. (This is called run-length encoding.) For example, the string \"aabcccccaaa\" would become a2b1c5a3. If the “compressed” string would not become smaller than the original string, your method should return the original string. You can assume the string has only uppercase and lowercase letters (a–z). Specify whether your solution is case sensitive or case insensitive and what you would need to change to make it the other. Afterward, write a brief explanation walking through your code's logic in markdown."
   ]
  },
  {
   "cell_type": "code",
   "execution_count": 30,
   "metadata": {},
   "outputs": [
    {
     "name": "stdout",
     "output_type": "stream",
     "text": [
      "a2b1c5a3\n"
     ]
    }
   ],
   "source": [
    "def solve(s):\n",
    "    result = \"\"\n",
    "    count = 1\n",
    "    for i in range(1, len(s)):\n",
    "        if s[i - 1] == s[i]:\n",
    "            count += 1\n",
    "        else:\n",
    "            result = result + s[i - 1]\n",
    "            if count > 0:\n",
    "                result += str(count)\n",
    "            count = 1\n",
    "    result = result + s[-1]\n",
    "    if count > 1:\n",
    "        result += str(count)\n",
    "    return result\n",
    "\n",
    "s = \"aabcccccaaa\"\n",
    "print(solve(s))\n",
    "\n",
    "#My thought process:\n",
    "# 1. Define a blank string\n",
    "# 2. For i in the range 1 to the length of s-1, count if it is the same for s[i - 1] and s[i]. Otherwise, to concatenate the string count.\n",
    "# 3. As for result, to concatenate count of the characters.\n",
    "# 4. Appreciate the advice if my thought process is correct as for this challenge i had to also look at samples online. to try to solve it"
   ]
  },
  {
   "cell_type": "markdown",
   "metadata": {},
   "source": [
    "### *BONUS* Challenge: FizzBuzz\n",
    "Write a program that prints all of the numbers from 1 to 100. For multiples of 3, instead of the number, print \"Fizz;\" for multiples of 5, print \"Buzz.\" For numbers that are multiples of both 3 and 5, print \"FizzBuzz.\" Afterward, write a brief explanation walking through your code's logic in markdown."
   ]
  },
  {
   "cell_type": "code",
   "execution_count": 7,
   "metadata": {},
   "outputs": [
    {
     "name": "stdout",
     "output_type": "stream",
     "text": [
      "1\n",
      "2\n",
      "Fizz\n",
      "4\n",
      "Buzz\n",
      "Fizz\n",
      "7\n",
      "8\n",
      "Fizz\n",
      "Buzz\n",
      "11\n",
      "Fizz\n",
      "13\n",
      "14\n",
      "FizzBuzz\n",
      "16\n",
      "17\n",
      "Fizz\n",
      "19\n",
      "Buzz\n",
      "Fizz\n",
      "22\n",
      "23\n",
      "Fizz\n",
      "Buzz\n",
      "26\n",
      "Fizz\n",
      "28\n",
      "29\n",
      "FizzBuzz\n",
      "31\n",
      "32\n",
      "Fizz\n",
      "34\n",
      "Buzz\n",
      "Fizz\n",
      "37\n",
      "38\n",
      "Fizz\n",
      "Buzz\n",
      "41\n",
      "Fizz\n",
      "43\n",
      "44\n",
      "FizzBuzz\n",
      "46\n",
      "47\n",
      "Fizz\n",
      "49\n",
      "Buzz\n",
      "Fizz\n",
      "52\n",
      "53\n",
      "Fizz\n",
      "Buzz\n",
      "56\n",
      "Fizz\n",
      "58\n",
      "59\n",
      "FizzBuzz\n",
      "61\n",
      "62\n",
      "Fizz\n",
      "64\n",
      "Buzz\n",
      "Fizz\n",
      "67\n",
      "68\n",
      "Fizz\n",
      "Buzz\n",
      "71\n",
      "Fizz\n",
      "73\n",
      "74\n",
      "FizzBuzz\n",
      "76\n",
      "77\n",
      "Fizz\n",
      "79\n",
      "Buzz\n",
      "Fizz\n",
      "82\n",
      "83\n",
      "Fizz\n",
      "Buzz\n",
      "86\n",
      "Fizz\n",
      "88\n",
      "89\n",
      "FizzBuzz\n",
      "91\n",
      "92\n",
      "Fizz\n",
      "94\n",
      "Buzz\n",
      "Fizz\n",
      "97\n",
      "98\n",
      "Fizz\n",
      "Buzz\n"
     ]
    }
   ],
   "source": [
    "for num in range(1, 100+1):\n",
    "    if num %15 == 0:\n",
    "        print(\"FizzBuzz\")\n",
    "    elif num %5 == 0:\n",
    "        print(\"Buzz\")\n",
    "    elif num %3 == 0:\n",
    "        print(\"Fizz\")\n",
    "    else:\n",
    "        print(num)\n",
    "        \n",
    "#My thought process:\n",
    "# 1. The range is set until 101 as the numbers are from 1 to 100.\n",
    "# 2. From the range, we need to divide by 15 as a start so it will not be divided by 3 or 5 first and assigned.\n",
    "# 3. Once all the numbers divisible by 15, 5 and 3, it is to print the remaining numbers."
   ]
  },
  {
   "cell_type": "code",
   "execution_count": null,
   "metadata": {},
   "outputs": [],
   "source": []
  }
 ],
 "metadata": {
  "anaconda-cloud": {},
  "kernelspec": {
   "display_name": "Python 3",
   "language": "python",
   "name": "python3"
  },
  "language_info": {
   "codemirror_mode": {
    "name": "ipython",
    "version": 3
   },
   "file_extension": ".py",
   "mimetype": "text/x-python",
   "name": "python",
   "nbconvert_exporter": "python",
   "pygments_lexer": "ipython3",
   "version": "3.8.8"
  }
 },
 "nbformat": 4,
 "nbformat_minor": 2
}
